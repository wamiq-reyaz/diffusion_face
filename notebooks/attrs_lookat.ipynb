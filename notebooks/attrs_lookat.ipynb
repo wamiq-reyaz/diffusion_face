{
 "cells": [
  {
   "cell_type": "code",
   "execution_count": 20,
   "metadata": {},
   "outputs": [],
   "source": [
    "import os\n",
    "from ipywidgets import widgets\n",
    "from IPython.display import clear_output\n",
    "from PIL import Image\n",
    "import numpy as np\n"
   ]
  },
  {
   "cell_type": "code",
   "execution_count": 21,
   "metadata": {},
   "outputs": [],
   "source": [
    "base_dir = '/datawaha/cggroup/parawr/Projects/diffusion/data/gen_images/w_plus_img_cams_ids_0.7_2m_final'\n",
    "img_dir = os.path.join(base_dir, 'images')\n",
    "seg_dir = os.path.join(base_dir, 'seg_map')"
   ]
  },
  {
   "cell_type": "code",
   "execution_count": 27,
   "metadata": {},
   "outputs": [
    {
     "name": "stdout",
     "output_type": "stream",
     "text": [
      "(19, 3)\n"
     ]
    }
   ],
   "source": [
    "# create a random color_map\n",
    "cmap = np.array([\n",
    "    np.array((1.0, 1.0, 1.0), np.float32),\n",
    "    np.array((255, 250, 79), np.float32) / 255.0,  # face\n",
    "    np.array([255, 125, 138], np.float32) / 255.0,  # lb\n",
    "    np.array([213, 32, 29], np.float32) / 255.0,  # rb\n",
    "    np.array([0, 144, 187], np.float32) / 255.0,  # le\n",
    "    np.array([0, 196, 253], np.float32) / 255.0,  # re\n",
    "    np.array([255, 129, 54], np.float32) / 255.0,  # nose\n",
    "    np.array([88, 233, 135], np.float32) / 255.0,  # ulip\n",
    "    np.array([0, 117, 27], np.float32) / 255.0,  # llip\n",
    "    np.array([255, 76, 249], np.float32) / 255.0,  # imouth\n",
    "    np.array((1.0, 0.0, 0.0), np.float32),  # hair\n",
    "    np.array((255, 250, 100), np.float32) / 255.0,  # lr\n",
    "    np.array((255, 250, 100), np.float32) / 255.0,  # rr\n",
    "    np.array((250, 245, 50), np.float32) / 255.0,  # neck\n",
    "    np.array((0.0, 1.0, 0.5), np.float32),  # cloth\n",
    "    np.array((0.0, 1.0, 0.1), np.float32),  # cloth\n",
    "    np.array((0.5, 1.0, 0.1), np.float32),  # cloth\n",
    "    np.array((1.0, 0.0, 0.5), np.float32),\n",
    "    np.array((1.0, 1.0, 0.5), np.float32),\n",
    "]\n",
    ")\n",
    "print(cmap.shape)\n",
    "\n",
    "cmap = (cmap * 255).astype(np.uint8)"
   ]
  },
  {
   "cell_type": "code",
   "execution_count": 28,
   "metadata": {},
   "outputs": [
    {
     "data": {
      "application/vnd.jupyter.widget-view+json": {
       "model_id": "637ef9485a934812b6ad0d4411e1c5d0",
       "version_major": 2,
       "version_minor": 0
      },
      "text/plain": [
       "IntSlider(value=1000000, description='Select Image:', max=1001000, min=1000000)"
      ]
     },
     "metadata": {},
     "output_type": "display_data"
    },
    {
     "data": {
      "application/vnd.jupyter.widget-view+json": {
       "model_id": "78d69f77fec9468ead615876637f79b8",
       "version_major": 2,
       "version_minor": 0
      },
      "text/plain": [
       "ToggleButtons(description='Overlay:', options=('On', 'Off'), value='On')"
      ]
     },
     "metadata": {},
     "output_type": "display_data"
    },
    {
     "data": {
      "application/vnd.jupyter.widget-view+json": {
       "model_id": "2631d2e761c4439e99982c4f03c7a99e",
       "version_major": 2,
       "version_minor": 0
      },
      "text/plain": [
       "Output()"
      ]
     },
     "metadata": {},
     "output_type": "display_data"
    }
   ],
   "source": [
    "\n",
    "# Output widget to display selected image\n",
    "out = widgets.Output()\n",
    "button = widgets.ToggleButtons(\n",
    "    options=['On', 'Off'],\n",
    "    description='Overlay:',\n",
    "    disabled=False,\n",
    "    button_style='', # 'success', 'info', 'warning', 'danger' or ''\n",
    ")\n",
    "slider = widgets.IntSlider(\n",
    "    min=1000_000,\n",
    "    max=1000_000+1000,\n",
    "    description='Select Image:',\n",
    "    value=0  # Default value\n",
    ")\n",
    "\n",
    "\n",
    "overlay_transparency = True\n",
    "idx = 0\n",
    "\n",
    "# Display image function\n",
    "def display_image():\n",
    "    global idx, overlay_transparency\n",
    "    img = Image.open(os.path.join(img_dir, str(idx).zfill(7) + '.png'))\n",
    "    if overlay_transparency:\n",
    "        seg_map = Image.open(os.path.join(seg_dir, str(idx).zfill(7) + '.png'))\n",
    "        _colored = cmap[np.asarray(seg_map).astype(np.int32)]\n",
    "        seg_map = Image.fromarray(_colored)\n",
    "        img = Image.blend(img, seg_map, 0.5)\n",
    "        \n",
    "    with out:\n",
    "        clear_output(wait=True)\n",
    "        display(img)\n",
    "\n",
    "# Set the callback for the button\n",
    "def on_button_clicked(b):\n",
    "    global overlay_transparency\n",
    "    if b['new'] == 'On':\n",
    "        overlay_transparency = True\n",
    "    else:\n",
    "        overlay_transparency = False\n",
    "    display_image()\n",
    "\n",
    "# Set the callback for the dropdown\n",
    "def on_value_change(change):\n",
    "    global idx\n",
    "    idx = change['new']\n",
    "    display_image()\n",
    "    \n",
    "slider.observe(on_value_change, names='value')\n",
    "button.observe(on_button_clicked, names='value')\n",
    "\n",
    "# Initial display\n",
    "display(slider)\n",
    "display(button)\n",
    "display(out)\n",
    "display_image()  # Display the first image by default"
   ]
  },
  {
   "cell_type": "code",
   "execution_count": null,
   "metadata": {},
   "outputs": [],
   "source": []
  }
 ],
 "metadata": {
  "kernelspec": {
   "display_name": "Python 3",
   "language": "python",
   "name": "python3"
  },
  "language_info": {
   "codemirror_mode": {
    "name": "ipython",
    "version": 3
   },
   "file_extension": ".py",
   "mimetype": "text/x-python",
   "name": "python",
   "nbconvert_exporter": "python",
   "pygments_lexer": "ipython3",
   "version": "3.9.17"
  },
  "orig_nbformat": 4
 },
 "nbformat": 4,
 "nbformat_minor": 2
}
